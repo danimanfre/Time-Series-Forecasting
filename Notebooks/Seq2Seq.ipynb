{
  "nbformat": 4,
  "nbformat_minor": 0,
  "metadata": {
    "colab": {
      "name": "Seq2Seq.ipynb",
      "provenance": [],
      "collapsed_sections": []
    },
    "kernelspec": {
      "name": "python3",
      "display_name": "Python 3"
    },
    "language_info": {
      "name": "python"
    },
    "accelerator": "GPU"
  },
  "cells": [
    {
      "cell_type": "code",
      "metadata": {
        "id": "CesUrUpUtKTp",
        "colab": {
          "base_uri": "https://localhost:8080/"
        },
        "outputId": "e2df62ef-6a37-4d64-cd0e-ec16037bd11d"
      },
      "source": [
        "import tensorflow as tf\n",
        "import numpy as np\n",
        "import os\n",
        "import random\n",
        "import pandas as pd\n",
        "import seaborn as sns\n",
        "from datetime import datetime\n",
        "import matplotlib.pyplot as plt\n",
        "plt.rc('font', size=16)\n",
        "from sklearn.preprocessing import MinMaxScaler\n",
        "from sklearn.model_selection import KFold \n",
        "import warnings\n",
        "warnings.filterwarnings('ignore')\n",
        "tf.get_logger().setLevel('ERROR')\n",
        "\n",
        "tfk = tf.keras\n",
        "tfkl = tf.keras.layers\n",
        "print(tf.__version__)"
      ],
      "execution_count": null,
      "outputs": [
        {
          "output_type": "stream",
          "name": "stdout",
          "text": [
            "2.7.0\n"
          ]
        }
      ]
    },
    {
      "cell_type": "code",
      "metadata": {
        "id": "-LDmmEgOtKsO"
      },
      "source": [
        "# Random seed for reproducibility\n",
        "seed = 42\n",
        "random.seed(seed)\n",
        "os.environ['PYTHONHASHSEED'] = str(seed)\n",
        "np.random.seed(seed)\n",
        "tf.random.set_seed(seed)\n",
        "tf.compat.v1.set_random_seed(seed)"
      ],
      "execution_count": null,
      "outputs": []
    },
    {
      "cell_type": "code",
      "metadata": {
        "id": "YB1vxLkYyfFQ",
        "colab": {
          "base_uri": "https://localhost:8080/",
          "height": 223
        },
        "outputId": "3efc1f47-5ded-43c0-8223-4f9a90e1458f"
      },
      "source": [
        "# Load the dataset\n",
        "dataset = pd.read_csv('Training.csv')\n",
        "print(dataset.shape)\n",
        "dataset.head()"
      ],
      "execution_count": null,
      "outputs": [
        {
          "output_type": "stream",
          "name": "stdout",
          "text": [
            "(68528, 7)\n"
          ]
        },
        {
          "output_type": "execute_result",
          "data": {
            "text/html": [
              "\n",
              "  <div id=\"df-94bc7af7-0863-45a5-9d8c-b3780e0e44a4\">\n",
              "    <div class=\"colab-df-container\">\n",
              "      <div>\n",
              "<style scoped>\n",
              "    .dataframe tbody tr th:only-of-type {\n",
              "        vertical-align: middle;\n",
              "    }\n",
              "\n",
              "    .dataframe tbody tr th {\n",
              "        vertical-align: top;\n",
              "    }\n",
              "\n",
              "    .dataframe thead th {\n",
              "        text-align: right;\n",
              "    }\n",
              "</style>\n",
              "<table border=\"1\" class=\"dataframe\">\n",
              "  <thead>\n",
              "    <tr style=\"text-align: right;\">\n",
              "      <th></th>\n",
              "      <th>Sponginess</th>\n",
              "      <th>Wonder level</th>\n",
              "      <th>Crunchiness</th>\n",
              "      <th>Loudness on impact</th>\n",
              "      <th>Meme creativity</th>\n",
              "      <th>Soap slipperiness</th>\n",
              "      <th>Hype root</th>\n",
              "    </tr>\n",
              "  </thead>\n",
              "  <tbody>\n",
              "    <tr>\n",
              "      <th>0</th>\n",
              "      <td>7.97698</td>\n",
              "      <td>4.33494</td>\n",
              "      <td>10.67282</td>\n",
              "      <td>1.76692</td>\n",
              "      <td>3.22440</td>\n",
              "      <td>51.681460</td>\n",
              "      <td>3.65434</td>\n",
              "    </tr>\n",
              "    <tr>\n",
              "      <th>1</th>\n",
              "      <td>8.07824</td>\n",
              "      <td>4.44616</td>\n",
              "      <td>10.56160</td>\n",
              "      <td>1.70716</td>\n",
              "      <td>3.32566</td>\n",
              "      <td>51.563598</td>\n",
              "      <td>3.47672</td>\n",
              "    </tr>\n",
              "    <tr>\n",
              "      <th>2</th>\n",
              "      <td>8.02844</td>\n",
              "      <td>4.22372</td>\n",
              "      <td>10.56160</td>\n",
              "      <td>1.64906</td>\n",
              "      <td>3.17460</td>\n",
              "      <td>50.863080</td>\n",
              "      <td>3.47672</td>\n",
              "    </tr>\n",
              "    <tr>\n",
              "      <th>3</th>\n",
              "      <td>8.02844</td>\n",
              "      <td>4.22372</td>\n",
              "      <td>10.56160</td>\n",
              "      <td>1.70716</td>\n",
              "      <td>3.17460</td>\n",
              "      <td>45.841581</td>\n",
              "      <td>3.47672</td>\n",
              "    </tr>\n",
              "    <tr>\n",
              "      <th>4</th>\n",
              "      <td>7.87572</td>\n",
              "      <td>4.44616</td>\n",
              "      <td>10.45038</td>\n",
              "      <td>1.70716</td>\n",
              "      <td>3.27586</td>\n",
              "      <td>47.126421</td>\n",
              "      <td>3.47672</td>\n",
              "    </tr>\n",
              "  </tbody>\n",
              "</table>\n",
              "</div>\n",
              "      <button class=\"colab-df-convert\" onclick=\"convertToInteractive('df-94bc7af7-0863-45a5-9d8c-b3780e0e44a4')\"\n",
              "              title=\"Convert this dataframe to an interactive table.\"\n",
              "              style=\"display:none;\">\n",
              "        \n",
              "  <svg xmlns=\"http://www.w3.org/2000/svg\" height=\"24px\"viewBox=\"0 0 24 24\"\n",
              "       width=\"24px\">\n",
              "    <path d=\"M0 0h24v24H0V0z\" fill=\"none\"/>\n",
              "    <path d=\"M18.56 5.44l.94 2.06.94-2.06 2.06-.94-2.06-.94-.94-2.06-.94 2.06-2.06.94zm-11 1L8.5 8.5l.94-2.06 2.06-.94-2.06-.94L8.5 2.5l-.94 2.06-2.06.94zm10 10l.94 2.06.94-2.06 2.06-.94-2.06-.94-.94-2.06-.94 2.06-2.06.94z\"/><path d=\"M17.41 7.96l-1.37-1.37c-.4-.4-.92-.59-1.43-.59-.52 0-1.04.2-1.43.59L10.3 9.45l-7.72 7.72c-.78.78-.78 2.05 0 2.83L4 21.41c.39.39.9.59 1.41.59.51 0 1.02-.2 1.41-.59l7.78-7.78 2.81-2.81c.8-.78.8-2.07 0-2.86zM5.41 20L4 18.59l7.72-7.72 1.47 1.35L5.41 20z\"/>\n",
              "  </svg>\n",
              "      </button>\n",
              "      \n",
              "  <style>\n",
              "    .colab-df-container {\n",
              "      display:flex;\n",
              "      flex-wrap:wrap;\n",
              "      gap: 12px;\n",
              "    }\n",
              "\n",
              "    .colab-df-convert {\n",
              "      background-color: #E8F0FE;\n",
              "      border: none;\n",
              "      border-radius: 50%;\n",
              "      cursor: pointer;\n",
              "      display: none;\n",
              "      fill: #1967D2;\n",
              "      height: 32px;\n",
              "      padding: 0 0 0 0;\n",
              "      width: 32px;\n",
              "    }\n",
              "\n",
              "    .colab-df-convert:hover {\n",
              "      background-color: #E2EBFA;\n",
              "      box-shadow: 0px 1px 2px rgba(60, 64, 67, 0.3), 0px 1px 3px 1px rgba(60, 64, 67, 0.15);\n",
              "      fill: #174EA6;\n",
              "    }\n",
              "\n",
              "    [theme=dark] .colab-df-convert {\n",
              "      background-color: #3B4455;\n",
              "      fill: #D2E3FC;\n",
              "    }\n",
              "\n",
              "    [theme=dark] .colab-df-convert:hover {\n",
              "      background-color: #434B5C;\n",
              "      box-shadow: 0px 1px 3px 1px rgba(0, 0, 0, 0.15);\n",
              "      filter: drop-shadow(0px 1px 2px rgba(0, 0, 0, 0.3));\n",
              "      fill: #FFFFFF;\n",
              "    }\n",
              "  </style>\n",
              "\n",
              "      <script>\n",
              "        const buttonEl =\n",
              "          document.querySelector('#df-94bc7af7-0863-45a5-9d8c-b3780e0e44a4 button.colab-df-convert');\n",
              "        buttonEl.style.display =\n",
              "          google.colab.kernel.accessAllowed ? 'block' : 'none';\n",
              "\n",
              "        async function convertToInteractive(key) {\n",
              "          const element = document.querySelector('#df-94bc7af7-0863-45a5-9d8c-b3780e0e44a4');\n",
              "          const dataTable =\n",
              "            await google.colab.kernel.invokeFunction('convertToInteractive',\n",
              "                                                     [key], {});\n",
              "          if (!dataTable) return;\n",
              "\n",
              "          const docLinkHtml = 'Like what you see? Visit the ' +\n",
              "            '<a target=\"_blank\" href=https://colab.research.google.com/notebooks/data_table.ipynb>data table notebook</a>'\n",
              "            + ' to learn more about interactive tables.';\n",
              "          element.innerHTML = '';\n",
              "          dataTable['output_type'] = 'display_data';\n",
              "          await google.colab.output.renderOutput(dataTable, element);\n",
              "          const docLink = document.createElement('div');\n",
              "          docLink.innerHTML = docLinkHtml;\n",
              "          element.appendChild(docLink);\n",
              "        }\n",
              "      </script>\n",
              "    </div>\n",
              "  </div>\n",
              "  "
            ],
            "text/plain": [
              "   Sponginess  Wonder level  ...  Soap slipperiness  Hype root\n",
              "0     7.97698       4.33494  ...          51.681460    3.65434\n",
              "1     8.07824       4.44616  ...          51.563598    3.47672\n",
              "2     8.02844       4.22372  ...          50.863080    3.47672\n",
              "3     8.02844       4.22372  ...          45.841581    3.47672\n",
              "4     7.87572       4.44616  ...          47.126421    3.47672\n",
              "\n",
              "[5 rows x 7 columns]"
            ]
          },
          "metadata": {},
          "execution_count": 5
        }
      ]
    },
    {
      "cell_type": "code",
      "metadata": {
        "id": "SFoJa5kMkq2g"
      },
      "source": [
        "def build_sequences(df, target_labels, window=200, stride=20, telescope=100):\n",
        "    # Sanity check to avoid runtime errors\n",
        "    assert window % stride == 0\n",
        "    dataset = []\n",
        "    labels = []\n",
        "    temp_df = df.copy().values\n",
        "    temp_label = df[target_labels].copy().values\n",
        "    padding_len = len(df)%window\n",
        "\n",
        "    if(padding_len != 0):\n",
        "        # Compute padding length\n",
        "        padding_len = window - len(df)%window\n",
        "        padding = np.zeros((padding_len,temp_df.shape[1]), dtype='float64')\n",
        "        temp_df = np.concatenate((padding,df))\n",
        "        padding = np.zeros((padding_len,temp_label.shape[1]), dtype='float64')\n",
        "        temp_label = np.concatenate((padding,temp_label))\n",
        "        assert len(temp_df) % window == 0\n",
        "\n",
        "    for idx in np.arange(0,len(temp_df)-window-telescope,stride):\n",
        "        dataset.append(temp_df[idx:idx+window])\n",
        "        labels.append(temp_label[idx+window:idx+window+telescope])\n",
        "\n",
        "    dataset = np.array(dataset)\n",
        "    labels = np.array(labels)\n",
        "    return dataset, labels"
      ],
      "execution_count": null,
      "outputs": []
    },
    {
      "cell_type": "code",
      "metadata": {
        "id": "5U5QeKoWJP9X"
      },
      "source": [
        "# We choose our parameters through CV, then we retrained the model on the entire dataset\n",
        "window = 400\n",
        "stride = 20"
      ],
      "execution_count": null,
      "outputs": []
    },
    {
      "cell_type": "code",
      "metadata": {
        "id": "jU3_acq542V-"
      },
      "source": [
        "target_labels = dataset.columns\n",
        "telescope = 50"
      ],
      "execution_count": null,
      "outputs": []
    },
    {
      "cell_type": "code",
      "metadata": {
        "id": "e_dsZ1Mb41DH",
        "colab": {
          "base_uri": "https://localhost:8080/"
        },
        "outputId": "a0d81dfe-d05c-4074-cbc3-b73db3e3fa8f"
      },
      "source": [
        "X, y = build_sequences(dataset, target_labels, window, stride, telescope)\n",
        "X.shape, y.shape"
      ],
      "execution_count": null,
      "outputs": [
        {
          "output_type": "execute_result",
          "data": {
            "text/plain": [
              "((3418, 400, 7), (3418, 50, 7))"
            ]
          },
          "metadata": {},
          "execution_count": 9
        }
      ]
    },
    {
      "cell_type": "code",
      "metadata": {
        "id": "AASFwzzCCGNn"
      },
      "source": [
        "input_shape = X.shape[1:]\n",
        "output_shape = y.shape[1:]\n",
        "batch_size = 64\n",
        "epochs = 200"
      ],
      "execution_count": null,
      "outputs": []
    },
    {
      "cell_type": "code",
      "source": [
        "# Function to create the model \n",
        "def sequence2sequence():\n",
        "    \n",
        "    # Build Encoder-Decoder Model\n",
        "    # ---------------------------\n",
        "\n",
        "    # ENCODER\n",
        "    # -------\n",
        "    encoder_input = tf.keras.Input(shape=input_shape, name='encoder_input')\n",
        "\n",
        "\n",
        "    encoder_output = tf.keras.layers.LSTM(units=256, return_state=True, name='encoder_lstm')(encoder_input)\n",
        "\n",
        "\n",
        "    # Save encoder state (to initialize the decoder)\n",
        "    encoder_state = encoder_output[1:]\n",
        "\n",
        "    # DECODER\n",
        "    # -------\n",
        "    decoder_inputs = tf.keras.layers.RepeatVector(telescope)(encoder_output[0])\n",
        "         \n",
        "    decoder_lstm, _, _ = tf.keras.layers.LSTM(units=256, return_sequences=True, return_state=True, \n",
        "                                              name='decoder_lstm')(decoder_inputs, initial_state=encoder_state)\n",
        "\n",
        "    decoder_out = tfkl.TimeDistributed(tfkl.Dense(output_shape[-1]))(decoder_lstm)\n",
        "\n",
        "    # MODEL\n",
        "    model = tf.keras.Model(encoder_input,  decoder_out)\n",
        "\n",
        "    # ----------\n",
        "    # Compile training model\n",
        "    model.compile(loss=tfk.losses.MeanSquaredError(),\n",
        "                  optimizer=tfk.optimizers.Adam(), metrics=['mae'])\n",
        "    \n",
        "    return model"
      ],
      "metadata": {
        "id": "6bLjo74vPdHl",
        "execution": {
          "iopub.status.busy": "2022-01-14T16:17:13.567830Z",
          "iopub.status.idle": "2022-01-14T16:17:13.568148Z",
          "shell.execute_reply.started": "2022-01-14T16:17:13.567990Z",
          "shell.execute_reply": "2022-01-14T16:17:13.568007Z"
        },
        "trusted": true
      },
      "execution_count": null,
      "outputs": []
    },
    {
      "cell_type": "code",
      "metadata": {
        "id": "5eIM0f0SCGF3",
        "colab": {
          "base_uri": "https://localhost:8080/"
        },
        "outputId": "3ee3bded-67b1-4aec-d1d6-4ad254535650"
      },
      "source": [
        "model = sequence2sequence()\n",
        "model.summary()\n",
        "\n",
        "history = model.fit(\n",
        "  x = X,\n",
        "  y = y,\n",
        "  batch_size = batch_size,\n",
        "  epochs = epochs,\n",
        "  validation_split=.1,\n",
        "  callbacks = [\n",
        "      tfk.callbacks.EarlyStopping(monitor='val_mae', mode='min', patience=10, restore_best_weights=True),\n",
        "      tfk.callbacks.ReduceLROnPlateau(monitor='val_mae', mode='min', patience=5, factor=0.5, min_lr=1e-5),\n",
        "  ]\n",
        "  ).history"
      ],
      "execution_count": null,
      "outputs": [
        {
          "output_type": "stream",
          "name": "stdout",
          "text": [
            "Model: \"model\"\n",
            "__________________________________________________________________________________________________\n",
            " Layer (type)                   Output Shape         Param #     Connected to                     \n",
            "==================================================================================================\n",
            " encoder_input (InputLayer)     [(None, 400, 7)]     0           []                               \n",
            "                                                                                                  \n",
            " encoder_lstm (LSTM)            [(None, 256),        270336      ['encoder_input[0][0]']          \n",
            "                                 (None, 256),                                                     \n",
            "                                 (None, 256)]                                                     \n",
            "                                                                                                  \n",
            " repeat_vector (RepeatVector)   (None, 50, 256)      0           ['encoder_lstm[0][0]']           \n",
            "                                                                                                  \n",
            " decoder_lstm (LSTM)            [(None, 50, 256),    525312      ['repeat_vector[0][0]',          \n",
            "                                 (None, 256),                     'encoder_lstm[0][1]',           \n",
            "                                 (None, 256)]                     'encoder_lstm[0][2]']           \n",
            "                                                                                                  \n",
            " time_distributed (TimeDistribu  (None, 50, 7)       1799        ['decoder_lstm[0][0]']           \n",
            " ted)                                                                                             \n",
            "                                                                                                  \n",
            "==================================================================================================\n",
            "Total params: 797,447\n",
            "Trainable params: 797,447\n",
            "Non-trainable params: 0\n",
            "__________________________________________________________________________________________________\n",
            "Epoch 1/200\n",
            "49/49 [==============================] - 8s 59ms/step - loss: 84.2509 - mae: 5.5566 - val_loss: 70.7308 - val_mae: 4.7436 - lr: 0.0010\n",
            "Epoch 2/200\n",
            "49/49 [==============================] - 2s 45ms/step - loss: 50.2552 - mae: 4.0920 - val_loss: 59.9935 - val_mae: 4.2576 - lr: 0.0010\n",
            "Epoch 3/200\n",
            "49/49 [==============================] - 2s 45ms/step - loss: 38.2098 - mae: 3.5442 - val_loss: 47.9366 - val_mae: 4.0089 - lr: 0.0010\n",
            "Epoch 4/200\n",
            "49/49 [==============================] - 2s 45ms/step - loss: 30.7078 - mae: 3.2436 - val_loss: 46.3334 - val_mae: 3.7068 - lr: 0.0010\n",
            "Epoch 5/200\n",
            "49/49 [==============================] - 2s 45ms/step - loss: 25.8872 - mae: 3.0155 - val_loss: 36.8649 - val_mae: 3.4814 - lr: 0.0010\n",
            "Epoch 6/200\n",
            "49/49 [==============================] - 2s 45ms/step - loss: 22.7866 - mae: 2.8443 - val_loss: 33.9394 - val_mae: 3.1698 - lr: 0.0010\n",
            "Epoch 7/200\n",
            "49/49 [==============================] - 2s 45ms/step - loss: 19.9616 - mae: 2.6505 - val_loss: 42.2774 - val_mae: 3.3352 - lr: 0.0010\n",
            "Epoch 8/200\n",
            "49/49 [==============================] - 2s 45ms/step - loss: 18.7117 - mae: 2.5808 - val_loss: 30.8236 - val_mae: 3.0595 - lr: 0.0010\n",
            "Epoch 9/200\n",
            "49/49 [==============================] - 2s 45ms/step - loss: 17.7717 - mae: 2.5316 - val_loss: 27.1331 - val_mae: 2.9674 - lr: 0.0010\n",
            "Epoch 10/200\n",
            "49/49 [==============================] - 2s 45ms/step - loss: 16.4159 - mae: 2.4405 - val_loss: 27.4759 - val_mae: 2.9869 - lr: 0.0010\n",
            "Epoch 11/200\n",
            "49/49 [==============================] - 2s 45ms/step - loss: 15.9375 - mae: 2.3854 - val_loss: 28.4751 - val_mae: 3.0654 - lr: 0.0010\n",
            "Epoch 12/200\n",
            "49/49 [==============================] - 2s 46ms/step - loss: 15.7146 - mae: 2.3628 - val_loss: 27.4270 - val_mae: 2.9748 - lr: 0.0010\n",
            "Epoch 13/200\n",
            "49/49 [==============================] - 2s 45ms/step - loss: 15.2785 - mae: 2.3142 - val_loss: 29.1675 - val_mae: 2.9116 - lr: 0.0010\n",
            "Epoch 14/200\n",
            "49/49 [==============================] - 2s 45ms/step - loss: 14.5858 - mae: 2.2664 - val_loss: 24.9576 - val_mae: 2.7735 - lr: 0.0010\n",
            "Epoch 15/200\n",
            "49/49 [==============================] - 2s 45ms/step - loss: 13.8190 - mae: 2.2042 - val_loss: 29.3804 - val_mae: 2.8431 - lr: 0.0010\n",
            "Epoch 16/200\n",
            "49/49 [==============================] - 2s 45ms/step - loss: 13.8404 - mae: 2.2091 - val_loss: 25.3479 - val_mae: 2.7607 - lr: 0.0010\n",
            "Epoch 17/200\n",
            "49/49 [==============================] - 2s 45ms/step - loss: 13.5427 - mae: 2.1841 - val_loss: 26.1813 - val_mae: 2.7557 - lr: 0.0010\n",
            "Epoch 18/200\n",
            "49/49 [==============================] - 2s 45ms/step - loss: 13.1089 - mae: 2.1497 - val_loss: 26.1945 - val_mae: 2.8051 - lr: 0.0010\n",
            "Epoch 19/200\n",
            "49/49 [==============================] - 2s 45ms/step - loss: 12.3130 - mae: 2.0927 - val_loss: 24.4642 - val_mae: 2.7047 - lr: 0.0010\n",
            "Epoch 20/200\n",
            "49/49 [==============================] - 2s 45ms/step - loss: 13.1810 - mae: 2.1351 - val_loss: 25.8434 - val_mae: 2.8009 - lr: 0.0010\n",
            "Epoch 21/200\n",
            "49/49 [==============================] - 2s 45ms/step - loss: 12.0806 - mae: 2.0656 - val_loss: 26.8254 - val_mae: 2.7565 - lr: 0.0010\n",
            "Epoch 22/200\n",
            "49/49 [==============================] - 2s 45ms/step - loss: 11.3823 - mae: 2.0151 - val_loss: 23.2499 - val_mae: 2.6281 - lr: 0.0010\n",
            "Epoch 23/200\n",
            "49/49 [==============================] - 2s 45ms/step - loss: 11.4627 - mae: 2.0161 - val_loss: 22.9367 - val_mae: 2.6522 - lr: 0.0010\n",
            "Epoch 24/200\n",
            "49/49 [==============================] - 2s 45ms/step - loss: 11.9384 - mae: 2.0314 - val_loss: 29.1317 - val_mae: 2.8504 - lr: 0.0010\n",
            "Epoch 25/200\n",
            "49/49 [==============================] - 2s 45ms/step - loss: 11.8745 - mae: 2.0265 - val_loss: 22.1556 - val_mae: 2.6060 - lr: 0.0010\n",
            "Epoch 26/200\n",
            "49/49 [==============================] - 2s 45ms/step - loss: 11.2324 - mae: 1.9999 - val_loss: 24.5731 - val_mae: 2.6687 - lr: 0.0010\n",
            "Epoch 27/200\n",
            "49/49 [==============================] - 2s 45ms/step - loss: 11.3315 - mae: 1.9982 - val_loss: 25.1211 - val_mae: 2.7021 - lr: 0.0010\n",
            "Epoch 28/200\n",
            "49/49 [==============================] - 2s 45ms/step - loss: 10.8481 - mae: 1.9627 - val_loss: 23.7136 - val_mae: 2.6569 - lr: 0.0010\n",
            "Epoch 29/200\n",
            "49/49 [==============================] - 2s 45ms/step - loss: 10.9375 - mae: 1.9561 - val_loss: 25.3128 - val_mae: 2.6981 - lr: 0.0010\n",
            "Epoch 30/200\n",
            "49/49 [==============================] - 2s 45ms/step - loss: 10.6860 - mae: 1.9311 - val_loss: 30.3495 - val_mae: 2.8813 - lr: 0.0010\n",
            "Epoch 31/200\n",
            "49/49 [==============================] - 2s 45ms/step - loss: 9.8884 - mae: 1.8695 - val_loss: 24.2324 - val_mae: 2.6099 - lr: 5.0000e-04\n",
            "Epoch 32/200\n",
            "49/49 [==============================] - 2s 45ms/step - loss: 9.1857 - mae: 1.8135 - val_loss: 24.3452 - val_mae: 2.6044 - lr: 5.0000e-04\n",
            "Epoch 33/200\n",
            "49/49 [==============================] - 2s 45ms/step - loss: 9.1649 - mae: 1.8030 - val_loss: 22.8243 - val_mae: 2.5907 - lr: 5.0000e-04\n",
            "Epoch 34/200\n",
            "49/49 [==============================] - 2s 45ms/step - loss: 9.0922 - mae: 1.7943 - val_loss: 25.1267 - val_mae: 2.6394 - lr: 5.0000e-04\n",
            "Epoch 35/200\n",
            "49/49 [==============================] - 2s 45ms/step - loss: 8.8092 - mae: 1.7737 - val_loss: 23.6159 - val_mae: 2.6165 - lr: 5.0000e-04\n",
            "Epoch 36/200\n",
            "49/49 [==============================] - 2s 45ms/step - loss: 8.5281 - mae: 1.7551 - val_loss: 23.2676 - val_mae: 2.6058 - lr: 5.0000e-04\n",
            "Epoch 37/200\n",
            "49/49 [==============================] - 2s 45ms/step - loss: 8.5160 - mae: 1.7614 - val_loss: 22.6191 - val_mae: 2.5853 - lr: 5.0000e-04\n",
            "Epoch 38/200\n",
            "49/49 [==============================] - 2s 45ms/step - loss: 9.0910 - mae: 1.7916 - val_loss: 25.6539 - val_mae: 2.6341 - lr: 5.0000e-04\n",
            "Epoch 39/200\n",
            "49/49 [==============================] - 2s 45ms/step - loss: 8.4638 - mae: 1.7495 - val_loss: 25.5953 - val_mae: 2.6457 - lr: 5.0000e-04\n",
            "Epoch 40/200\n",
            "49/49 [==============================] - 2s 45ms/step - loss: 8.0611 - mae: 1.7172 - val_loss: 24.3799 - val_mae: 2.6224 - lr: 5.0000e-04\n",
            "Epoch 41/200\n",
            "49/49 [==============================] - 2s 45ms/step - loss: 7.8107 - mae: 1.6954 - val_loss: 24.3096 - val_mae: 2.6299 - lr: 5.0000e-04\n",
            "Epoch 42/200\n",
            "49/49 [==============================] - 2s 45ms/step - loss: 7.5311 - mae: 1.6648 - val_loss: 22.9037 - val_mae: 2.5629 - lr: 5.0000e-04\n",
            "Epoch 43/200\n",
            "49/49 [==============================] - 2s 45ms/step - loss: 7.5603 - mae: 1.6691 - val_loss: 23.8704 - val_mae: 2.6380 - lr: 5.0000e-04\n",
            "Epoch 44/200\n",
            "49/49 [==============================] - 2s 45ms/step - loss: 7.2756 - mae: 1.6495 - val_loss: 25.6773 - val_mae: 2.6534 - lr: 5.0000e-04\n",
            "Epoch 45/200\n",
            "49/49 [==============================] - 2s 45ms/step - loss: 7.2808 - mae: 1.6447 - val_loss: 25.0362 - val_mae: 2.6242 - lr: 5.0000e-04\n",
            "Epoch 46/200\n",
            "49/49 [==============================] - 2s 45ms/step - loss: 7.2124 - mae: 1.6383 - val_loss: 25.4370 - val_mae: 2.6506 - lr: 5.0000e-04\n",
            "Epoch 47/200\n",
            "49/49 [==============================] - 2s 45ms/step - loss: 7.9897 - mae: 1.6960 - val_loss: 25.3226 - val_mae: 2.6774 - lr: 5.0000e-04\n",
            "Epoch 48/200\n",
            "49/49 [==============================] - 2s 45ms/step - loss: 7.2682 - mae: 1.6370 - val_loss: 26.2058 - val_mae: 2.6621 - lr: 2.5000e-04\n",
            "Epoch 49/200\n",
            "49/49 [==============================] - 2s 45ms/step - loss: 6.6226 - mae: 1.5834 - val_loss: 26.9525 - val_mae: 2.6686 - lr: 2.5000e-04\n",
            "Epoch 50/200\n",
            "49/49 [==============================] - 2s 45ms/step - loss: 6.4449 - mae: 1.5695 - val_loss: 26.5081 - val_mae: 2.6514 - lr: 2.5000e-04\n",
            "Epoch 51/200\n",
            "49/49 [==============================] - 2s 45ms/step - loss: 6.1806 - mae: 1.5439 - val_loss: 26.2741 - val_mae: 2.6494 - lr: 2.5000e-04\n",
            "Epoch 52/200\n",
            "49/49 [==============================] - 2s 45ms/step - loss: 6.2248 - mae: 1.5459 - val_loss: 26.1532 - val_mae: 2.6383 - lr: 2.5000e-04\n"
          ]
        }
      ]
    },
    {
      "cell_type": "code",
      "source": [
        "model.save('Seq2Seq_w400_s20')"
      ],
      "metadata": {
        "id": "8ywiWqfZoVc2",
        "colab": {
          "base_uri": "https://localhost:8080/"
        },
        "outputId": "30a8e927-01c8-426c-a649-7bf1fd20777c"
      },
      "execution_count": null,
      "outputs": [
        {
          "output_type": "stream",
          "name": "stderr",
          "text": [
            "WARNING:absl:Found untraced functions such as lstm_cell_layer_call_fn, lstm_cell_layer_call_and_return_conditional_losses, lstm_cell_1_layer_call_fn, lstm_cell_1_layer_call_and_return_conditional_losses, lstm_cell_layer_call_fn while saving (showing 5 of 10). These functions will not be directly callable after loading.\n",
            "WARNING:absl:<keras.layers.recurrent.LSTMCell object at 0x7f1a3420d490> has the same name 'LSTMCell' as a built-in Keras object. Consider renaming <class 'keras.layers.recurrent.LSTMCell'> to avoid naming conflicts when loading with `tf.keras.models.load_model`. If renaming is not possible, pass the object in the `custom_objects` parameter of the load function.\n",
            "WARNING:absl:<keras.layers.recurrent.LSTMCell object at 0x7f1a20118f90> has the same name 'LSTMCell' as a built-in Keras object. Consider renaming <class 'keras.layers.recurrent.LSTMCell'> to avoid naming conflicts when loading with `tf.keras.models.load_model`. If renaming is not possible, pass the object in the `custom_objects` parameter of the load function.\n"
          ]
        }
      ]
    }
  ]
}