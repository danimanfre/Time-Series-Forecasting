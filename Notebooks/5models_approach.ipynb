{
  "metadata": {
    "kernelspec": {
      "language": "python",
      "display_name": "Python 3",
      "name": "python3"
    },
    "language_info": {
      "pygments_lexer": "ipython3",
      "nbconvert_exporter": "python",
      "version": "3.6.4",
      "file_extension": ".py",
      "codemirror_mode": {
        "name": "ipython",
        "version": 3
      },
      "name": "python",
      "mimetype": "text/x-python"
    },
    "colab": {
      "name": "5models_approach.ipynb",
      "provenance": [],
      "collapsed_sections": []
    }
  },
  "nbformat_minor": 0,
  "nbformat": 4,
  "cells": [
    {
      "cell_type": "markdown",
      "source": [
        "The low correlation between variable lead us to try to build five different models. Three of them would predict\n",
        "a single variable using only its past values. Two of them would predict a couple of highly correlated variables\n",
        "using only past values of that specific couple of variable (i.e. Hype Root and Crunchiness to predict Hype root and\n",
        "Crunchiness)"
      ],
      "metadata": {
        "id": "S7kjzO65tMR9"
      }
    },
    {
      "cell_type": "code",
      "source": [
        "import tensorflow as tf\n",
        "import numpy as np\n",
        "import os\n",
        "import random\n",
        "import pandas as pd\n",
        "import seaborn as sns\n",
        "from datetime import datetime\n",
        "import matplotlib.pyplot as plt\n",
        "plt.rc('font', size=16)\n",
        "from sklearn.preprocessing import MinMaxScaler\n",
        "import warnings\n",
        "warnings.filterwarnings('ignore')\n",
        "tf.get_logger().setLevel('ERROR')\n",
        "\n",
        "tfk = tf.keras\n",
        "tfkl = tf.keras.layers\n",
        "print(tf.__version__)"
      ],
      "metadata": {
        "id": "CesUrUpUtKTp",
        "execution": {
          "iopub.status.busy": "2022-01-01T18:28:29.239782Z",
          "iopub.execute_input": "2022-01-01T18:28:29.240095Z",
          "iopub.status.idle": "2022-01-01T18:28:29.249842Z",
          "shell.execute_reply.started": "2022-01-01T18:28:29.240062Z",
          "shell.execute_reply": "2022-01-01T18:28:29.248687Z"
        },
        "trusted": true
      },
      "execution_count": null,
      "outputs": []
    },
    {
      "cell_type": "code",
      "source": [
        "# Random seed for reproducibility\n",
        "seed = 42\n",
        "\n",
        "random.seed(seed)\n",
        "os.environ['PYTHONHASHSEED'] = str(seed)\n",
        "np.random.seed(seed)\n",
        "tf.random.set_seed(seed)\n",
        "tf.compat.v1.set_random_seed(seed)"
      ],
      "metadata": {
        "id": "-LDmmEgOtKsO",
        "execution": {
          "iopub.status.busy": "2022-01-01T18:28:29.2528Z",
          "iopub.execute_input": "2022-01-01T18:28:29.253596Z",
          "iopub.status.idle": "2022-01-01T18:28:29.266852Z",
          "shell.execute_reply.started": "2022-01-01T18:28:29.253548Z",
          "shell.execute_reply": "2022-01-01T18:28:29.265706Z"
        },
        "trusted": true
      },
      "execution_count": null,
      "outputs": []
    },
    {
      "cell_type": "code",
      "source": [
        "dataset = pd.read_csv('../input/training/Training.csv')\n",
        "print(dataset.shape)\n",
        "dataset.head()"
      ],
      "metadata": {
        "id": "YB1vxLkYyfFQ",
        "execution": {
          "iopub.status.busy": "2022-01-01T18:28:29.268816Z",
          "iopub.execute_input": "2022-01-01T18:28:29.269692Z",
          "iopub.status.idle": "2022-01-01T18:28:29.41863Z",
          "shell.execute_reply.started": "2022-01-01T18:28:29.269644Z",
          "shell.execute_reply": "2022-01-01T18:28:29.417337Z"
        },
        "trusted": true
      },
      "execution_count": null,
      "outputs": []
    },
    {
      "cell_type": "code",
      "source": [
        "def inspect_dataframe(df, columns):\n",
        "    figs, axs = plt.subplots(len(columns), 1, sharex=True, figsize=(17,17))\n",
        "    for i, col in enumerate(columns):\n",
        "        axs[i].plot(df[col])\n",
        "        axs[i].set_title(col)\n",
        "    plt.show()\n",
        "inspect_dataframe(dataset, dataset.columns)"
      ],
      "metadata": {
        "id": "HXpSLGgC902P",
        "execution": {
          "iopub.status.busy": "2022-01-01T18:28:29.420439Z",
          "iopub.execute_input": "2022-01-01T18:28:29.421542Z",
          "iopub.status.idle": "2022-01-01T18:28:30.570322Z",
          "shell.execute_reply.started": "2022-01-01T18:28:29.421462Z",
          "shell.execute_reply": "2022-01-01T18:28:30.569385Z"
        },
        "trusted": true
      },
      "execution_count": null,
      "outputs": []
    },
    {
      "cell_type": "code",
      "source": [
        "sponginess=tf.expand_dims(dataset[\"Sponginess\"],axis=1)\n",
        "crunch_hype=tf.concat([tf.expand_dims(dataset[\"Crunchiness\"],axis=1),tf.expand_dims(dataset[\"Hype root\"],axis=1)],axis=1)\n",
        "wonder_loud=tf.concat([tf.expand_dims(dataset[\"Wonder level\"],axis=1),tf.expand_dims(dataset[\"Loudness on impact\"],axis=1)],axis=1)                       \n",
        "meme_creativity=tf.expand_dims(dataset[\"Meme creativity\"],axis=1)\n",
        "soap_slipperiness=tf.expand_dims(dataset[\"Soap slipperiness\"],axis=1)\n",
        "#Wonder level\tCrunchiness\tLoudness on impact\tMeme creativity\tSoap slipperiness\tHype root\n",
        "print(sponginess.shape)\n",
        "single_datasets=[sponginess,meme_creativity,soap_slipperiness]\n",
        "couple_datasets=[crunch_hype,wonder_loud]\n",
        "single_names=[\"sponginess\",\"meme_creativity\",\"soap_slipperiness\"]\n",
        "couple_names=[\"crunch_hype\",\"wonder_loud\"]\n"
      ],
      "metadata": {
        "id": "wB4jRVsPJw25",
        "execution": {
          "iopub.status.busy": "2022-01-01T18:28:30.573251Z",
          "iopub.execute_input": "2022-01-01T18:28:30.573984Z",
          "iopub.status.idle": "2022-01-01T18:28:30.593659Z",
          "shell.execute_reply.started": "2022-01-01T18:28:30.573933Z",
          "shell.execute_reply": "2022-01-01T18:28:30.592529Z"
        },
        "trusted": true
      },
      "execution_count": null,
      "outputs": []
    },
    {
      "cell_type": "code",
      "source": [
        "window = 300\n",
        "stride = 20"
      ],
      "metadata": {
        "id": "5U5QeKoWJP9X",
        "execution": {
          "iopub.status.busy": "2022-01-01T18:28:30.595279Z",
          "iopub.execute_input": "2022-01-01T18:28:30.595834Z",
          "iopub.status.idle": "2022-01-01T18:28:30.606352Z",
          "shell.execute_reply.started": "2022-01-01T18:28:30.595785Z",
          "shell.execute_reply": "2022-01-01T18:28:30.605197Z"
        },
        "trusted": true
      },
      "execution_count": null,
      "outputs": []
    },
    {
      "cell_type": "code",
      "source": [
        "future = dataset[-window:]\n",
        "future = np.expand_dims(future, axis=0)\n",
        "future.shape"
      ],
      "metadata": {
        "id": "n0ckE6LaO68r",
        "execution": {
          "iopub.status.busy": "2022-01-01T18:28:30.608351Z",
          "iopub.execute_input": "2022-01-01T18:28:30.609074Z",
          "iopub.status.idle": "2022-01-01T18:28:30.621434Z",
          "shell.execute_reply.started": "2022-01-01T18:28:30.609026Z",
          "shell.execute_reply": "2022-01-01T18:28:30.620202Z"
        },
        "trusted": true
      },
      "execution_count": null,
      "outputs": []
    },
    {
      "cell_type": "code",
      "source": [
        "def build_sequences(df, window=200, stride=20, telescope=100):\n",
        "    # Sanity check to avoid runtime errors\n",
        "    assert window % stride == 0\n",
        "    dataset = []\n",
        "    labels = []\n",
        "    temp_df = df\n",
        "    temp_label = df\n",
        "    padding_len = len(df)%window\n",
        "\n",
        "    if(padding_len != 0):\n",
        "        # Compute padding length\n",
        "        padding_len = window - len(df)%window\n",
        "        padding = np.zeros((padding_len,temp_df.shape[1]), dtype='float64')\n",
        "        temp_df = np.concatenate((padding,df))\n",
        "        padding = np.zeros((padding_len,temp_label.shape[1]), dtype='float64')\n",
        "        temp_label = np.concatenate((padding,temp_label))\n",
        "        assert len(temp_df) % window == 0\n",
        "\n",
        "    for idx in np.arange(0,len(temp_df)-window-telescope,stride):\n",
        "        dataset.append(temp_df[idx:idx+window])\n",
        "        labels.append(temp_label[idx+window:idx+window+telescope])\n",
        "\n",
        "    dataset = np.array(dataset)\n",
        "    labels = np.array(labels)\n",
        "    return dataset, labels"
      ],
      "metadata": {
        "id": "SFoJa5kMkq2g",
        "execution": {
          "iopub.status.busy": "2022-01-01T18:28:30.623687Z",
          "iopub.execute_input": "2022-01-01T18:28:30.624445Z",
          "iopub.status.idle": "2022-01-01T18:28:30.638865Z",
          "shell.execute_reply.started": "2022-01-01T18:28:30.624398Z",
          "shell.execute_reply": "2022-01-01T18:28:30.637698Z"
        },
        "trusted": true
      },
      "execution_count": null,
      "outputs": []
    },
    {
      "cell_type": "code",
      "source": [
        "target_labels = dataset.columns\n",
        "telescope = 100"
      ],
      "metadata": {
        "id": "jU3_acq542V-",
        "execution": {
          "iopub.status.busy": "2022-01-01T18:28:30.64114Z",
          "iopub.execute_input": "2022-01-01T18:28:30.642053Z",
          "iopub.status.idle": "2022-01-01T18:28:30.650589Z",
          "shell.execute_reply.started": "2022-01-01T18:28:30.642003Z",
          "shell.execute_reply": "2022-01-01T18:28:30.649315Z"
        },
        "trusted": true
      },
      "execution_count": null,
      "outputs": []
    },
    {
      "cell_type": "code",
      "source": [
        "train_sequences=[]\n",
        "names=[]\n",
        "\n",
        "i=0\n",
        "for data in single_datasets:\n",
        "    X_train, y_train = build_sequences(data, window, stride, telescope)\n",
        "    print(X_train.shape, y_train.shape)\n",
        "    train_sequences.append([X_train,y_train])\n",
        "    names.append(single_names[i])\n",
        "    i=i+1\n",
        "i=0\n",
        "for data in couple_datasets:\n",
        "    X_train, y_train = build_sequences(data, window, stride, telescope)\n",
        "    print(X_train.shape, y_train.shape)\n",
        "    train_sequences.append([X_train,y_train])\n",
        "    names.append(couple_names[i])\n",
        "    i=i+1\n"
      ],
      "metadata": {
        "id": "e_dsZ1Mb41DH",
        "execution": {
          "iopub.status.busy": "2022-01-01T18:28:30.653229Z",
          "iopub.execute_input": "2022-01-01T18:28:30.653984Z",
          "iopub.status.idle": "2022-01-01T18:28:30.792225Z",
          "shell.execute_reply.started": "2022-01-01T18:28:30.653934Z",
          "shell.execute_reply": "2022-01-01T18:28:30.791094Z"
        },
        "trusted": true
      },
      "execution_count": null,
      "outputs": []
    },
    {
      "cell_type": "code",
      "source": [
        "def inspect_multivariate(X, y, columns, telescope, name,idx=None):\n",
        "    if(idx==None):\n",
        "        idx=np.random.randint(0,len(X))\n",
        "        col=[]\n",
        "    for i in range(columns):\n",
        "        col.append(\"bruh\"+str(i))\n",
        "    if len(col)>1:\n",
        "        figs, axs = plt.subplots(len(col), 1, sharex=True, figsize=(17,5))\n",
        "        for i, col1 in enumerate(col):\n",
        "            print(i)\n",
        "            print(col1)\n",
        "            axs[i].plot(np.arange(len(X[0,:,i])), X[idx,:,i])\n",
        "            axs[i].scatter(np.arange(len(X[0,:,i]), len(X_train[0,:,i])+telescope), y[idx,:,i], color='orange')\n",
        "            axs[i].set_title(name)\n",
        "            #axs[i].set_ylim(0,1)\n",
        "    else:\n",
        "        plt.figure(figsize=(17,2.5))\n",
        "        plt.plot(np.arange(len(X[0,:,i])), X[idx,:,i])\n",
        "        plt.scatter(np.arange(len(X[0,:,i]), len(X_train[0,:,i])+telescope), y[idx,:,i], color='orange')\n",
        "        plt.title(name)\n",
        "    \n",
        "    plt.show()"
      ],
      "metadata": {
        "id": "ruqsimHHmqzJ",
        "execution": {
          "iopub.status.busy": "2022-01-01T18:28:30.794172Z",
          "iopub.execute_input": "2022-01-01T18:28:30.794726Z",
          "iopub.status.idle": "2022-01-01T18:28:30.812383Z",
          "shell.execute_reply.started": "2022-01-01T18:28:30.79468Z",
          "shell.execute_reply": "2022-01-01T18:28:30.811081Z"
        },
        "trusted": true
      },
      "execution_count": null,
      "outputs": []
    },
    {
      "cell_type": "code",
      "source": [
        "i=0\n",
        "print(len(train_sequences))\n",
        "for seq in train_sequences:\n",
        "    name=names[i]\n",
        "    print(name)\n",
        "    inspect_multivariate(seq[0], seq[1],seq[0].shape[2], telescope, name=name)\n",
        "    i=i+1"
      ],
      "metadata": {
        "execution": {
          "iopub.status.busy": "2022-01-01T18:28:30.819447Z",
          "iopub.execute_input": "2022-01-01T18:28:30.820088Z",
          "iopub.status.idle": "2022-01-01T18:28:32.452249Z",
          "shell.execute_reply.started": "2022-01-01T18:28:30.820042Z",
          "shell.execute_reply": "2022-01-01T18:28:32.451436Z"
        },
        "trusted": true,
        "id": "bYbR9cO-tJW4"
      },
      "execution_count": null,
      "outputs": []
    },
    {
      "cell_type": "code",
      "source": [
        "def build_CONV_LSTM_model(input_shape, output_shape,learning_rate):\n",
        "    # Build the neural network layer by layer\n",
        "    input_layer = tfkl.Input(shape=input_shape, name='Input')\n",
        "\n",
        "    convlstm = tfkl.Bidirectional(tfkl.LSTM(64, return_sequences=True))(input_layer)\n",
        "    convlstm = tfkl.Conv1D(128, 3, padding='same', activation='relu')(convlstm)\n",
        "    convlstm = tfkl.MaxPool1D()(convlstm)\n",
        "    convlstm = tfkl.Bidirectional(tfkl.LSTM(128, return_sequences=True))(convlstm)\n",
        "    convlstm = tfkl.Conv1D(256, 3, padding='same', activation='relu')(convlstm)\n",
        "    convlstm = tfkl.GlobalAveragePooling1D()(convlstm)\n",
        "    convlstm = tfkl.Dropout(.5)(convlstm)\n",
        "\n",
        "    # In order to predict the next values for more than one channel,\n",
        "    # we can use a Dense layer with a number given by telescope*num_channels,\n",
        "    # followed by a Reshape layer to obtain a tensor of dimension \n",
        "    # [None, telescope, num_channels]\n",
        "    dense = tfkl.Dense(output_shape[-1]*output_shape[-2], activation='relu')(convlstm)\n",
        "    output_layer = tfkl.Reshape((output_shape[-2],output_shape[-1]))(dense)\n",
        "    output_layer = tfkl.Conv1D(output_shape[-1], 1, padding='same')(output_layer)\n",
        "\n",
        "    # Connect input and output through the Model class\n",
        "    model = tfk.Model(inputs=input_layer, outputs=output_layer, name='model')\n",
        "\n",
        "    # Compile the model\n",
        "    model.compile(loss=tfk.losses.MeanSquaredError(), optimizer=tfk.optimizers.Adam(learning_rate=learning_rate), metrics=['mae'])\n",
        "\n",
        "    # Return the model\n",
        "    return model"
      ],
      "metadata": {
        "id": "jP_H1wc_CGK5",
        "execution": {
          "iopub.status.busy": "2022-01-01T18:28:32.45396Z",
          "iopub.execute_input": "2022-01-01T18:28:32.455093Z",
          "iopub.status.idle": "2022-01-01T18:28:32.471503Z",
          "shell.execute_reply.started": "2022-01-01T18:28:32.455046Z",
          "shell.execute_reply": "2022-01-01T18:28:32.470165Z"
        },
        "trusted": true
      },
      "execution_count": null,
      "outputs": []
    },
    {
      "cell_type": "code",
      "source": [
        "single_input_shape = (window,1)\n",
        "couple_input_shape =(window,2)\n",
        "single_output_shape = (telescope,1)\n",
        "couple_output_shape=(telescope,2)\n",
        "batch_size = 64\n",
        "epochs = 200"
      ],
      "metadata": {
        "execution": {
          "iopub.status.busy": "2022-01-01T18:28:32.473437Z",
          "iopub.execute_input": "2022-01-01T18:28:32.474354Z",
          "iopub.status.idle": "2022-01-01T18:28:32.490528Z",
          "shell.execute_reply.started": "2022-01-01T18:28:32.474295Z",
          "shell.execute_reply": "2022-01-01T18:28:32.489328Z"
        },
        "trusted": true,
        "id": "AD2eklkntJW4"
      },
      "execution_count": null,
      "outputs": []
    },
    {
      "cell_type": "code",
      "source": [
        "models=[]\n",
        "l_r=[0.001,0.00005,0.05,0.005,0.01]\n",
        "for i in range(5):\n",
        "    if (i <3):\n",
        "        model = build_CONV_LSTM_model(single_input_shape, single_output_shape,learning_rate=l_r[i])\n",
        "    else:\n",
        "        model= build_CONV_LSTM_model(couple_input_shape, couple_output_shape,learning_rate=l_r[i])\n",
        "        \n",
        "    model.summary()\n",
        "    tfk.utils.plot_model(model, expand_nested=True)\n",
        "    models.append(model)"
      ],
      "metadata": {
        "id": "MhAmgJKZCGIl",
        "execution": {
          "iopub.status.busy": "2022-01-01T18:28:32.492455Z",
          "iopub.execute_input": "2022-01-01T18:28:32.493415Z",
          "iopub.status.idle": "2022-01-01T18:28:39.991266Z",
          "shell.execute_reply.started": "2022-01-01T18:28:32.493349Z",
          "shell.execute_reply": "2022-01-01T18:28:39.990083Z"
        },
        "collapsed": true,
        "jupyter": {
          "outputs_hidden": true
        },
        "trusted": true
      },
      "execution_count": null,
      "outputs": []
    },
    {
      "cell_type": "code",
      "source": [
        "# Train the models\n",
        "i=0\n",
        "for seq in train_sequences:\n",
        "    history = models[i].fit(\n",
        "        x = seq[0],\n",
        "        y = seq[1],\n",
        "        batch_size = batch_size,\n",
        "        epochs = epochs,\n",
        "        validation_split=.1,\n",
        "        callbacks = [\n",
        "            tfk.callbacks.EarlyStopping(monitor='val_loss', mode='min', patience=10, restore_best_weights=True),\n",
        "            tfk.callbacks.ReduceLROnPlateau(monitor='val_loss', mode='min', patience=4, factor=0.5,min_lr=0.0000001)]).history\n",
        "    i=i+1\n",
        "models[0].save('Sponginess')\n",
        "models[1].save('Meme_Creativity')\n",
        "models[2].save(\"soap_splipperiness\")\n",
        "models[3].save(\"crunch_hype\")\n",
        "models[4].save('wonder_lound')\n"
      ],
      "metadata": {
        "id": "5eIM0f0SCGF3",
        "execution": {
          "iopub.status.busy": "2022-01-01T18:28:39.994035Z",
          "iopub.execute_input": "2022-01-01T18:28:39.994442Z",
          "iopub.status.idle": "2022-01-01T18:47:50.610668Z",
          "shell.execute_reply.started": "2022-01-01T18:28:39.994392Z",
          "shell.execute_reply": "2022-01-01T18:47:50.60955Z"
        },
        "trusted": true
      },
      "execution_count": null,
      "outputs": []
    },
    {
      "cell_type": "code",
      "source": [
        "best_epoch = np.argmin(history['val_loss'])\n",
        "plt.figure(figsize=(17,4))\n",
        "plt.plot(history['loss'], label='Training loss', alpha=.8, color='#ff7f0e')\n",
        "plt.plot(history['val_loss'], label='Validation loss', alpha=.9, color='#5a9aa5')\n",
        "plt.axvline(x=best_epoch, label='Best epoch', alpha=.3, ls='--', color='#5a9aa5')\n",
        "plt.title('Mean Squared Error (Loss)')\n",
        "plt.legend()\n",
        "plt.grid(alpha=.3)\n",
        "plt.show()\n",
        "\n",
        "plt.figure(figsize=(17,4))\n",
        "plt.plot(history['mae'], label='Training accuracy', alpha=.8, color='#ff7f0e')\n",
        "plt.plot(history['val_mae'], label='Validation accuracy', alpha=.9, color='#5a9aa5')\n",
        "plt.axvline(x=best_epoch, label='Best epoch', alpha=.3, ls='--', color='#5a9aa5')\n",
        "plt.title('Mean Absolute Error')\n",
        "plt.legend()\n",
        "plt.grid(alpha=.3)\n",
        "plt.show()\n",
        "\n",
        "plt.figure(figsize=(18,3))\n",
        "plt.plot(history['lr'], label='Learning Rate', alpha=.8, color='#ff7f0e')\n",
        "plt.axvline(x=best_epoch, label='Best epoch', alpha=.3, ls='--', color='#5a9aa5')\n",
        "plt.legend()\n",
        "plt.grid(alpha=.3)\n",
        "plt.show()"
      ],
      "metadata": {
        "id": "GLUlKfK0CGDg",
        "execution": {
          "iopub.status.busy": "2022-01-01T18:47:50.614548Z",
          "iopub.execute_input": "2022-01-01T18:47:50.614875Z",
          "iopub.status.idle": "2022-01-01T18:47:51.396503Z",
          "shell.execute_reply.started": "2022-01-01T18:47:50.614829Z",
          "shell.execute_reply": "2022-01-01T18:47:51.3955Z"
        },
        "trusted": true
      },
      "execution_count": null,
      "outputs": []
    },
    {
      "cell_type": "code",
      "source": [
        "X_temp = single_datasets[0]\n",
        "X_temp=X_temp[-300:]\n",
        "#print(X_temp.shape)\n",
        "#X_temp=np.reshape(X_temp,(window,-1))\n",
        "#print(X_temp.shape)\n",
        "X_temp=np.expand_dims(X_temp, axis=0)\n",
        "#print(X_temp.shape)\n",
        "reg_future = np.array([])\n",
        "#X_temp = future\n",
        "for reg in range(0,864,telescope):\n",
        "    pred_temp = models[0].predict(X_temp)\n",
        "    #print(pred_temp)\n",
        "    if(len(reg_future)==0):\n",
        "        reg_future = pred_temp\n",
        "    else:\n",
        "        reg_future = np.concatenate((reg_future,pred_temp),axis=1)\n",
        "    X_temp = tf.concat([X_temp[:, telescope:, :], pred_temp], axis=1)\n",
        "out=reg_future[0,:864]\n"
      ],
      "metadata": {
        "execution": {
          "iopub.status.busy": "2022-01-01T18:47:51.398698Z",
          "iopub.execute_input": "2022-01-01T18:47:51.399349Z",
          "iopub.status.idle": "2022-01-01T18:47:56.603878Z",
          "shell.execute_reply.started": "2022-01-01T18:47:51.399289Z",
          "shell.execute_reply": "2022-01-01T18:47:56.602725Z"
        },
        "trusted": true,
        "id": "HI153wJVtJW5"
      },
      "execution_count": null,
      "outputs": []
    },
    {
      "cell_type": "code",
      "source": [
        "#figs, axs = plt.subplots(2, 1, sharex=True, figsize=(17,5))\n",
        "X_temp = single_datasets[0]\n",
        "X_temp=X_temp[-300:]\n",
        "print(X_temp.shape)\n",
        "#X_temp=np.reshape(X_temp,(window,-1))\n",
        "#print(X_temp.shape)\n",
        "X_temp=np.expand_dims(X_temp, axis=0)\n",
        "#for i in range(2):\n",
        "plt.figure(figsize=(17,2.5))\n",
        "plt.plot(np.arange(len(X_temp[0,:])), X_temp[0,:])\n",
        "plt.plot(np.arange(len(X_temp[0,]), len(X_temp[0,:])+864), out[:], color='orange')\n",
        "#axs[i].fill_between(\n",
        "   # np.arange(len(future[0,:,i]), len(future[0,:,i])+reg_telescope), \n",
        "   # reg_future[0,:,i]+maes[:,i], \n",
        "   # reg_future[0,:,i]-maes[:,i], \n",
        "    #color='orange', alpha=.3)\n",
        "    #axs[i].set_title(names[0])\n",
        "plt.title(names[0])\n",
        "   # axs[i].set_ylim(0,1)\n",
        "plt.show()"
      ],
      "metadata": {
        "execution": {
          "iopub.status.busy": "2022-01-01T18:47:56.605841Z",
          "iopub.execute_input": "2022-01-01T18:47:56.606139Z",
          "iopub.status.idle": "2022-01-01T18:47:56.829964Z",
          "shell.execute_reply.started": "2022-01-01T18:47:56.606097Z",
          "shell.execute_reply": "2022-01-01T18:47:56.828883Z"
        },
        "trusted": true,
        "id": "VZSwhBLqtJW6"
      },
      "execution_count": null,
      "outputs": []
    },
    {
      "cell_type": "code",
      "source": [
        "X_temp = single_datasets[1]\n",
        "X_temp=X_temp[-300:]\n",
        "#print(X_temp.shape)\n",
        "#X_temp=np.reshape(X_temp,(window,-1))\n",
        "#print(X_temp.shape)\n",
        "X_temp=np.expand_dims(X_temp, axis=0)\n",
        "#print(X_temp.shape)\n",
        "reg_future = np.array([])\n",
        "#X_temp = future\n",
        "for reg in range(0,864,telescope):\n",
        "    pred_temp = models[1].predict(X_temp)\n",
        "    #print(pred_temp)\n",
        "    if(len(reg_future)==0):\n",
        "        reg_future = pred_temp\n",
        "    else:\n",
        "        reg_future = np.concatenate((reg_future,pred_temp),axis=1)\n",
        "    X_temp = tf.concat([X_temp[:, telescope:, :], pred_temp], axis=1)\n",
        "out=reg_future[0,:864]\n"
      ],
      "metadata": {
        "execution": {
          "iopub.status.busy": "2022-01-01T18:47:56.831509Z",
          "iopub.execute_input": "2022-01-01T18:47:56.832422Z",
          "iopub.status.idle": "2022-01-01T18:48:01.508924Z",
          "shell.execute_reply.started": "2022-01-01T18:47:56.832374Z",
          "shell.execute_reply": "2022-01-01T18:48:01.507861Z"
        },
        "trusted": true,
        "id": "UOmSiE5QtJW6"
      },
      "execution_count": null,
      "outputs": []
    },
    {
      "cell_type": "code",
      "source": [
        "#figs, axs = plt.subplots(2, 1, sharex=True, figsize=(17,5))\n",
        "X_temp = single_datasets[1]\n",
        "X_temp=X_temp[-300:]\n",
        "print(X_temp.shape)\n",
        "#X_temp=np.reshape(X_temp,(window,-1))\n",
        "#print(X_temp.shape)\n",
        "X_temp=np.expand_dims(X_temp, axis=0)\n",
        "#for i in range(2):\n",
        "plt.figure(figsize=(17,2.5))\n",
        "plt.plot(np.arange(len(X_temp[0,:])), X_temp[0,:])\n",
        "plt.plot(np.arange(len(X_temp[0,]), len(X_temp[0,:])+864), out[:], color='orange')\n",
        "#axs[i].fill_between(\n",
        "   # np.arange(len(future[0,:,i]), len(future[0,:,i])+reg_telescope), \n",
        "   # reg_future[0,:,i]+maes[:,i], \n",
        "   # reg_future[0,:,i]-maes[:,i], \n",
        "    #color='orange', alpha=.3)\n",
        "    #axs[i].set_title(names[0])\n",
        "plt.title(names[1])\n",
        "   # axs[i].set_ylim(0,1)\n",
        "plt.show()"
      ],
      "metadata": {
        "execution": {
          "iopub.status.busy": "2022-01-01T18:48:01.510681Z",
          "iopub.execute_input": "2022-01-01T18:48:01.511016Z",
          "iopub.status.idle": "2022-01-01T18:48:01.743272Z",
          "shell.execute_reply.started": "2022-01-01T18:48:01.510959Z",
          "shell.execute_reply": "2022-01-01T18:48:01.742038Z"
        },
        "trusted": true,
        "id": "ZxVK8aAFtJW6"
      },
      "execution_count": null,
      "outputs": []
    },
    {
      "cell_type": "code",
      "source": [
        "X_temp = single_datasets[2]\n",
        "X_temp=X_temp[-300:]\n",
        "#print(X_temp.shape)\n",
        "#X_temp=np.reshape(X_temp,(window,-1))\n",
        "#print(X_temp.shape)\n",
        "X_temp=np.expand_dims(X_temp, axis=0)\n",
        "#print(X_temp.shape)\n",
        "reg_future = np.array([])\n",
        "#X_temp = future\n",
        "for reg in range(0,864,telescope):\n",
        "    pred_temp = models[2].predict(X_temp)\n",
        "    #print(pred_temp)\n",
        "    if(len(reg_future)==0):\n",
        "        reg_future = pred_temp\n",
        "    else:\n",
        "        reg_future = np.concatenate((reg_future,pred_temp),axis=1)\n",
        "    X_temp = tf.concat([X_temp[:, telescope:, :], pred_temp], axis=1)\n",
        "out=reg_future[0,:864]"
      ],
      "metadata": {
        "execution": {
          "iopub.status.busy": "2022-01-01T18:48:01.74544Z",
          "iopub.execute_input": "2022-01-01T18:48:01.745825Z",
          "iopub.status.idle": "2022-01-01T18:48:05.557516Z",
          "shell.execute_reply.started": "2022-01-01T18:48:01.745748Z",
          "shell.execute_reply": "2022-01-01T18:48:05.556637Z"
        },
        "trusted": true,
        "id": "mXW5_gmetJW6"
      },
      "execution_count": null,
      "outputs": []
    },
    {
      "cell_type": "code",
      "source": [
        "#figs, axs = plt.subplots(2, 1, sharex=True, figsize=(17,5))\n",
        "X_temp = single_datasets[2]\n",
        "X_temp=X_temp[-300:]\n",
        "print(X_temp.shape)\n",
        "#X_temp=np.reshape(X_temp,(window,-1))\n",
        "#print(X_temp.shape)\n",
        "X_temp=np.expand_dims(X_temp, axis=0)\n",
        "#for i in range(2):\n",
        "plt.figure(figsize=(17,2.5))\n",
        "plt.plot(np.arange(len(X_temp[0,:])), X_temp[0,:])\n",
        "plt.plot(np.arange(len(X_temp[0,]), len(X_temp[0,:])+864), out[:], color='orange')\n",
        "#axs[i].fill_between(\n",
        "   # np.arange(len(future[0,:,i]), len(future[0,:,i])+reg_telescope), \n",
        "   # reg_future[0,:,i]+maes[:,i], \n",
        "   # reg_future[0,:,i]-maes[:,i], \n",
        "    #color='orange', alpha=.3)\n",
        "    #axs[i].set_title(names[0])\n",
        "plt.title(names[2])\n",
        "   # axs[i].set_ylim(0,1)\n",
        "plt.show()"
      ],
      "metadata": {
        "execution": {
          "iopub.status.busy": "2022-01-01T18:48:05.559507Z",
          "iopub.execute_input": "2022-01-01T18:48:05.559813Z",
          "iopub.status.idle": "2022-01-01T18:48:05.772924Z",
          "shell.execute_reply.started": "2022-01-01T18:48:05.559767Z",
          "shell.execute_reply": "2022-01-01T18:48:05.771897Z"
        },
        "trusted": true,
        "id": "Gu20B9a6tJW7"
      },
      "execution_count": null,
      "outputs": []
    },
    {
      "cell_type": "code",
      "source": [
        "X_temp = couple_datasets[0]\n",
        "X_temp=X_temp[-300:]\n",
        "#print(X_temp.shape)\n",
        "#X_temp=np.reshape(X_temp,(window,-1))\n",
        "#print(X_temp.shape)\n",
        "X_temp=np.expand_dims(X_temp, axis=0)\n",
        "#print(X_temp.shape)\n",
        "print(X_temp.shape)\n",
        "print(models[1])\n",
        "reg_future = np.array([])\n",
        "#X_temp = future\n",
        "for reg in range(0,864,telescope):\n",
        "    pred_temp = models[3].predict(X_temp)\n",
        "    #print(pred_temp)\n",
        "    if(len(reg_future)==0):\n",
        "        reg_future = pred_temp\n",
        "    else:\n",
        "        reg_future = np.concatenate((reg_future,pred_temp),axis=1)\n",
        "    X_temp = tf.concat([X_temp[:, telescope:, :], pred_temp], axis=1)\n",
        "out=reg_future[0,:864]\n",
        "print(out)"
      ],
      "metadata": {
        "id": "LVxky8kvqWLh",
        "execution": {
          "iopub.status.busy": "2022-01-01T18:48:05.774885Z",
          "iopub.execute_input": "2022-01-01T18:48:05.775486Z",
          "iopub.status.idle": "2022-01-01T18:48:09.863326Z",
          "shell.execute_reply.started": "2022-01-01T18:48:05.775418Z",
          "shell.execute_reply": "2022-01-01T18:48:09.859889Z"
        },
        "trusted": true
      },
      "execution_count": null,
      "outputs": []
    },
    {
      "cell_type": "code",
      "source": [
        "figs, axs = plt.subplots(2, 1, sharex=True, figsize=(17,5))\n",
        "X_temp = couple_datasets[0]\n",
        "X_temp=X_temp[-300:]\n",
        "print(X_temp.shape)\n",
        "#X_temp=np.reshape(X_temp,(window,-1))\n",
        "#print(X_temp.shape)\n",
        "X_temp=np.expand_dims(X_temp, axis=0)\n",
        "for i in range(2):\n",
        "#plt.figure(figsize=(17,2.5))\n",
        "    axs[i].plot(np.arange(len(X_temp[0,:,i])), X_temp[0,:,i])\n",
        "    axs[i].plot(np.arange(len(X_temp[0,:,i]), len(X_temp[0,:,i])+864), out[:,i], color='orange')\n",
        "#axs[i].fill_between(\n",
        "   # np.arange(len(future[0,:,i]), len(future[0,:,i])+reg_telescope), \n",
        "   # reg_future[0,:,i]+maes[:,i], \n",
        "   # reg_future[0,:,i]-maes[:,i], \n",
        "    #color='orange', alpha=.3)\n",
        "    axs[i].set_title(names[3])\n",
        "#plt.title(names[2])\n",
        "   # axs[i].set_ylim(0,1)\n",
        "plt.show()"
      ],
      "metadata": {
        "execution": {
          "iopub.status.busy": "2022-01-01T18:48:09.864973Z",
          "iopub.execute_input": "2022-01-01T18:48:09.865335Z",
          "iopub.status.idle": "2022-01-01T18:48:10.189227Z",
          "shell.execute_reply.started": "2022-01-01T18:48:09.865292Z",
          "shell.execute_reply": "2022-01-01T18:48:10.188155Z"
        },
        "trusted": true,
        "id": "TQLB5ZT3tJW7"
      },
      "execution_count": null,
      "outputs": []
    },
    {
      "cell_type": "code",
      "source": [
        "X_temp = couple_datasets[1]\n",
        "X_temp=X_temp[-300:]\n",
        "#print(X_temp.shape)\n",
        "#X_temp=np.reshape(X_temp,(window,-1))\n",
        "#print(X_temp.shape)\n",
        "X_temp=np.expand_dims(X_temp, axis=0)\n",
        "#print(X_temp.shape)\n",
        "print(X_temp.shape)\n",
        "print(models[1])\n",
        "reg_future = np.array([])\n",
        "#X_temp = future\n",
        "for reg in range(0,864,telescope):\n",
        "    pred_temp = models[4].predict(X_temp)\n",
        "    #print(pred_temp)\n",
        "    if(len(reg_future)==0):\n",
        "        reg_future = pred_temp\n",
        "    else:\n",
        "        reg_future = np.concatenate((reg_future,pred_temp),axis=1)\n",
        "    X_temp = tf.concat([X_temp[:, telescope:, :], pred_temp], axis=1)\n",
        "out=reg_future[0,:864]\n",
        "print(out)"
      ],
      "metadata": {
        "execution": {
          "iopub.status.busy": "2022-01-01T18:48:10.191102Z",
          "iopub.execute_input": "2022-01-01T18:48:10.191441Z",
          "iopub.status.idle": "2022-01-01T18:48:13.964539Z",
          "shell.execute_reply.started": "2022-01-01T18:48:10.191368Z",
          "shell.execute_reply": "2022-01-01T18:48:13.963419Z"
        },
        "trusted": true,
        "id": "CZhAHJIZtJW7"
      },
      "execution_count": null,
      "outputs": []
    },
    {
      "cell_type": "code",
      "source": [
        "figs, axs = plt.subplots(2, 1, sharex=True, figsize=(17,5))\n",
        "X_temp = couple_datasets[1]\n",
        "X_temp=X_temp[-300:]\n",
        "print(X_temp.shape)\n",
        "#X_temp=np.reshape(X_temp,(window,-1))\n",
        "#print(X_temp.shape)\n",
        "X_temp=np.expand_dims(X_temp, axis=0)\n",
        "for i in range(2):\n",
        "#plt.figure(figsize=(17,2.5))\n",
        "    axs[i].plot(np.arange(len(X_temp[0,:,i])), X_temp[0,:,i])\n",
        "    axs[i].plot(np.arange(len(X_temp[0,:,i]), len(X_temp[0,:,i])+864), out[:,i], color='orange')\n",
        "#axs[i].fill_between(\n",
        "   # np.arange(len(future[0,:,i]), len(future[0,:,i])+reg_telescope), \n",
        "   # reg_future[0,:,i]+maes[:,i], \n",
        "   # reg_future[0,:,i]-maes[:,i], \n",
        "    #color='orange', alpha=.3)\n",
        "    axs[i].set_title(names[4])\n",
        "#plt.title(names[2])\n",
        "   # axs[i].set_ylim(0,1)\n",
        "plt.show()"
      ],
      "metadata": {
        "execution": {
          "iopub.status.busy": "2022-01-01T18:48:13.96584Z",
          "iopub.execute_input": "2022-01-01T18:48:13.966478Z",
          "iopub.status.idle": "2022-01-01T18:48:14.302707Z",
          "shell.execute_reply.started": "2022-01-01T18:48:13.966413Z",
          "shell.execute_reply": "2022-01-01T18:48:14.301592Z"
        },
        "trusted": true,
        "id": "8RTBSr92tJW8"
      },
      "execution_count": null,
      "outputs": []
    }
  ]
}